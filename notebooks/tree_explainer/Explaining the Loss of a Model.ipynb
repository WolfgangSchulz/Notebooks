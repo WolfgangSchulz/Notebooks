{
 "cells": [
  {
   "cell_type": "markdown",
   "metadata": {},
   "source": [
    "# Explaining the Loss of a Tree Model\n",
    "\n",
    "Explaining the loss of a model can be very useful for debugging and model monitoring. This notebook gives a very simple example of how this works. Note that explaining the loss of a model requires passing the labels, and is only supported for the `feature_dependence=\"independent\"` option of TreeExplainer.\n",
    "\n",
    "This notebook will be fleshed out once we post a full write-up of this method."
   ]
  },
  {
   "cell_type": "code",
   "execution_count": 1,
   "metadata": {},
   "outputs": [],
   "source": [
    "import shap\n",
    "import sklearn\n",
    "import xgboost\n",
    "import numpy as np"
   ]
  },
  {
   "cell_type": "markdown",
   "metadata": {},
   "source": [
    "### Train an XGBoost Classifier"
   ]
  },
  {
   "cell_type": "code",
   "execution_count": 2,
   "metadata": {},
   "outputs": [
    {
     "data": {
      "text/plain": [
       "array([2.77169840e-03, 2.43189454e-01, 1.06922761e-02, 9.52967107e-02,\n",
       "       5.76623142e-01, 1.72828579e+00, 6.12983434e-03, 7.44314849e-01,\n",
       "       3.45766719e-04, 2.10685795e-03])"
      ]
     },
     "execution_count": 2,
     "metadata": {},
     "output_type": "execute_result"
    }
   ],
   "source": [
    "X,y = shap.datasets.adult()\n",
    "\n",
    "model = xgboost.XGBClassifier()\n",
    "model.fit(X,y)\n",
    "\n",
    "# compute the logistic log-loss\n",
    "model_loss = -np.log(model.predict_proba(X)[:,1]) * y + -np.log(model.predict_proba(X)[:,0]) * (1-y)\n",
    "\n",
    "model_loss[:10]"
   ]
  },
  {
   "cell_type": "markdown",
   "metadata": {},
   "source": [
    "### Explain the Log-Loss of the Model with TreeExplainer\n",
    "\n",
    "Note that the `expected_value` of the model's loss depends on the label and so it is now a function instead of a single number."
   ]
  },
  {
   "cell_type": "code",
   "execution_count": 3,
   "metadata": {},
   "outputs": [
    {
     "name": "stderr",
     "output_type": "stream",
     "text": [
      "model_output = \"logloss\" has been renamed to model_output = \"log_loss\"\n",
      "feature_dependence = \"independent\" has been renamed to feature_perturbation = \"interventional\"! See GitHub issue #882.\n"
     ]
    },
    {
     "data": {
      "text/plain": [
       "array([2.77167490e-03, 2.43189533e-01, 1.06922868e-02, 9.52966075e-02,\n",
       "       5.76623150e-01, 1.72828595e+00, 6.12980458e-03, 7.44314826e-01,\n",
       "       3.45695316e-04, 2.10676165e-03])"
      ]
     },
     "execution_count": 3,
     "metadata": {},
     "output_type": "execute_result"
    }
   ],
   "source": [
    "explainer = shap.TreeExplainer(model, X, feature_perturbation = \"interventional\", model_output = \"log_loss\")\n",
    "explainer.shap_values(X.iloc[:10,:], y[:10]).sum(1) + np.array([explainer.expected_value(v) for v in y[:10]])"
   ]
  },
  {
   "cell_type": "code",
   "execution_count": null,
   "metadata": {},
   "outputs": [],
   "source": []
  }
 ],
 "metadata": {
  "kernelspec": {
   "display_name": "Python 3",
   "language": "python",
   "name": "python3"
  },
  "language_info": {
   "codemirror_mode": {
    "name": "ipython",
    "version": 3
   },
   "file_extension": ".py",
   "mimetype": "text/x-python",
   "name": "python",
   "nbconvert_exporter": "python",
   "pygments_lexer": "ipython3",
   "version": "3.6.12"
  }
 },
 "nbformat": 4,
 "nbformat_minor": 2
}
