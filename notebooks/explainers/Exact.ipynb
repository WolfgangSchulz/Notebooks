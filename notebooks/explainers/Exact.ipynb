{
 "cells": [
  {
   "cell_type": "markdown",
   "metadata": {},
   "source": [
    "# Exact explainer\n",
    "\n",
    "This notebooks demonstrates how to use the Exact explainer on some simple datasets. The Exact explainer is model-agnostic, so it can compute Shapley values and Owen values exactly (without approximation) for any model. However, since it completely enumerates the space of masking patterns it has $O(2^M)$ complexity for Shapley values and $O(M^2)$ complexity for Owen values on a balanced clustering tree for M input features.\n",
    "\n",
    "Because the exact explainer knows that it is fully enumerating the masking space it can use optimizations that are not possible with random sampling based approaches, such as using a [grey code](https://en.wikipedia.org/wiki/Gray_code) ordering to minimize the number of inputs that change between successive masking patterns, and so potentially reduce the number of times the model needs to be called."
   ]
  },
  {
   "cell_type": "code",
   "execution_count": 1,
   "metadata": {
    "scrolled": false
   },
   "outputs": [],
   "source": [
    "import shap\n",
    "import xgboost\n",
    "\n",
    "# get a dataset on income prediction\n",
    "X,y = shap.datasets.adult()\n",
    "\n",
    "# train an XGBoost model (but any other model type would also work)\n",
    "model = xgboost.XGBClassifier()\n",
    "model.fit(X, y);"
   ]
  },
  {
   "cell_type": "markdown",
   "metadata": {},
   "source": [
    "## Tabular data with independent (Shapley value) masking"
   ]
  },
  {
   "cell_type": "code",
   "execution_count": 2,
   "metadata": {},
   "outputs": [
    {
     "name": "stderr",
     "output_type": "stream",
     "text": [
      "\n",
      "Compilation is falling back to object mode WITH looplifting enabled because Function \"_compute_grey_code_row_values\" failed type inference due to: No implementation of function Function(<built-in function iadd>) found for signature:\n",
      " \n",
      " >>> iadd(float64, array(float64, 1d, C))\n",
      " \n",
      "There are 16 candidate implementations:\n",
      "   - Of which 14 did not match due to:\n",
      "   Overload of function 'iadd': File: <numerous>: Line N/A.\n",
      "     With argument(s): '(float64, array(float64, 1d, C))':\n",
      "    No match.\n",
      "   - Of which 2 did not match due to:\n",
      "   Operator Overload in function 'iadd': File: unknown: Line unknown.\n",
      "     With argument(s): '(float64, array(float64, 1d, C))':\n",
      "    No match for registered cases:\n",
      "     * (int64, int64) -> int64\n",
      "     * (int64, uint64) -> int64\n",
      "     * (uint64, int64) -> int64\n",
      "     * (uint64, uint64) -> uint64\n",
      "     * (float32, float32) -> float32\n",
      "     * (float64, float64) -> float64\n",
      "     * (complex64, complex64) -> complex64\n",
      "     * (complex128, complex128) -> complex128\n",
      "\n",
      "During: typing of intrinsic-call at /home/jan/shap/venv36tens2/lib/python3.6/site-packages/shap/explainers/_exact.py (175)\n",
      "\n",
      "File \"../../venv36tens2/lib/python3.6/site-packages/shap/explainers/_exact.py\", line 175:\n",
      "def _compute_grey_code_row_values(row_values, mask, inds, outputs, shapley_coeff, extended_delta_indexes, noop_code):\n",
      "    <source elided>\n",
      "            if mask[j]:\n",
      "                row_values[j] += out * on_coeff\n",
      "                ^\n",
      "\n",
      "\n",
      "Compilation is falling back to object mode WITHOUT looplifting enabled because Function \"_compute_grey_code_row_values\" failed type inference due to: cannot determine Numba type of <class 'numba.core.dispatcher.LiftedLoop'>\n",
      "\n",
      "File \"../../venv36tens2/lib/python3.6/site-packages/shap/explainers/_exact.py\", line 157:\n",
      "def _compute_grey_code_row_values(row_values, mask, inds, outputs, shapley_coeff, extended_delta_indexes, noop_code):\n",
      "    <source elided>\n",
      "    M = len(inds)\n",
      "    for i in range(2**M):\n",
      "    ^\n",
      "\n",
      "Function \"_compute_grey_code_row_values\" was compiled in object mode without forceobj=True, but has lifted loops.\n",
      "\n",
      "File \"../../venv36tens2/lib/python3.6/site-packages/shap/explainers/_exact.py\", line 155:\n",
      "def _compute_grey_code_row_values(row_values, mask, inds, outputs, shapley_coeff, extended_delta_indexes, noop_code):\n",
      "    set_size = 0\n",
      "    ^\n",
      "\n",
      "\n",
      "Fall-back from the nopython compilation path to the object mode compilation path has been detected, this is deprecated behaviour.\n",
      "\n",
      "For more information visit https://numba.pydata.org/numba-doc/latest/reference/deprecation.html#deprecation-of-object-mode-fall-back-behaviour-when-using-jit\n",
      "\n",
      "File \"../../venv36tens2/lib/python3.6/site-packages/shap/explainers/_exact.py\", line 155:\n",
      "def _compute_grey_code_row_values(row_values, mask, inds, outputs, shapley_coeff, extended_delta_indexes, noop_code):\n",
      "    set_size = 0\n",
      "    ^\n",
      "\n",
      "\n",
      "Compilation is falling back to object mode WITHOUT looplifting enabled because Function \"_compute_grey_code_row_values\" failed type inference due to: No implementation of function Function(<built-in function iadd>) found for signature:\n",
      " \n",
      " >>> iadd(float64, array(float64, 1d, C))\n",
      " \n",
      "There are 16 candidate implementations:\n",
      "     - Of which 14 did not match due to:\n",
      "     Overload of function 'iadd': File: <numerous>: Line N/A.\n",
      "       With argument(s): '(float64, array(float64, 1d, C))':\n",
      "      No match.\n",
      "     - Of which 2 did not match due to:\n",
      "     Operator Overload in function 'iadd': File: unknown: Line unknown.\n",
      "       With argument(s): '(float64, array(float64, 1d, C))':\n",
      "      No match for registered cases:\n",
      "       * (int64, int64) -> int64\n",
      "       * (int64, uint64) -> int64\n",
      "       * (uint64, int64) -> int64\n",
      "       * (uint64, uint64) -> uint64\n",
      "       * (float32, float32) -> float32\n",
      "       * (float64, float64) -> float64\n",
      "       * (complex64, complex64) -> complex64\n",
      "       * (complex128, complex128) -> complex128\n",
      "\n",
      "During: typing of intrinsic-call at /home/jan/shap/venv36tens2/lib/python3.6/site-packages/shap/explainers/_exact.py (175)\n",
      "\n",
      "File \"../../venv36tens2/lib/python3.6/site-packages/shap/explainers/_exact.py\", line 175:\n",
      "def _compute_grey_code_row_values(row_values, mask, inds, outputs, shapley_coeff, extended_delta_indexes, noop_code):\n",
      "    <source elided>\n",
      "            if mask[j]:\n",
      "                row_values[j] += out * on_coeff\n",
      "                ^\n",
      "\n",
      "Function \"_compute_grey_code_row_values\" was compiled in object mode without forceobj=True.\n",
      "\n",
      "File \"../../venv36tens2/lib/python3.6/site-packages/shap/explainers/_exact.py\", line 157:\n",
      "def _compute_grey_code_row_values(row_values, mask, inds, outputs, shapley_coeff, extended_delta_indexes, noop_code):\n",
      "    <source elided>\n",
      "    M = len(inds)\n",
      "    for i in range(2**M):\n",
      "    ^\n",
      "\n",
      "\n",
      "Fall-back from the nopython compilation path to the object mode compilation path has been detected, this is deprecated behaviour.\n",
      "\n",
      "For more information visit https://numba.pydata.org/numba-doc/latest/reference/deprecation.html#deprecation-of-object-mode-fall-back-behaviour-when-using-jit\n",
      "\n",
      "File \"../../venv36tens2/lib/python3.6/site-packages/shap/explainers/_exact.py\", line 157:\n",
      "def _compute_grey_code_row_values(row_values, mask, inds, outputs, shapley_coeff, extended_delta_indexes, noop_code):\n",
      "    <source elided>\n",
      "    M = len(inds)\n",
      "    for i in range(2**M):\n",
      "    ^\n",
      "\n"
     ]
    },
    {
     "ename": "ValueError",
     "evalue": "setting an array element with a sequence.",
     "output_type": "error",
     "traceback": [
      "\u001b[0;31m---------------------------------------------------------------------------\u001b[0m",
      "\u001b[0;31mTypeError\u001b[0m                                 Traceback (most recent call last)",
      "\u001b[0;31mTypeError\u001b[0m: only size-1 arrays can be converted to Python scalars",
      "\nThe above exception was the direct cause of the following exception:\n",
      "\u001b[0;31mValueError\u001b[0m                                Traceback (most recent call last)",
      "\u001b[0;32m<ipython-input-2-ff287ebec3ed>\u001b[0m in \u001b[0;36m<module>\u001b[0;34m\u001b[0m\n\u001b[1;32m      1\u001b[0m \u001b[0;31m# build an Exact explainer and explain the model predictions on the given dataset\u001b[0m\u001b[0;34m\u001b[0m\u001b[0;34m\u001b[0m\u001b[0;34m\u001b[0m\u001b[0m\n\u001b[1;32m      2\u001b[0m \u001b[0mexplainer\u001b[0m \u001b[0;34m=\u001b[0m \u001b[0mshap\u001b[0m\u001b[0;34m.\u001b[0m\u001b[0mexplainers\u001b[0m\u001b[0;34m.\u001b[0m\u001b[0mExact\u001b[0m\u001b[0;34m(\u001b[0m\u001b[0mmodel\u001b[0m\u001b[0;34m.\u001b[0m\u001b[0mpredict_proba\u001b[0m\u001b[0;34m,\u001b[0m \u001b[0mX\u001b[0m\u001b[0;34m)\u001b[0m\u001b[0;34m\u001b[0m\u001b[0;34m\u001b[0m\u001b[0m\n\u001b[0;32m----> 3\u001b[0;31m \u001b[0mshap_values\u001b[0m \u001b[0;34m=\u001b[0m \u001b[0mexplainer\u001b[0m\u001b[0;34m(\u001b[0m\u001b[0mX\u001b[0m\u001b[0;34m[\u001b[0m\u001b[0;34m:\u001b[0m\u001b[0;36m100\u001b[0m\u001b[0;34m]\u001b[0m\u001b[0;34m)\u001b[0m\u001b[0;34m\u001b[0m\u001b[0;34m\u001b[0m\u001b[0m\n\u001b[0m\u001b[1;32m      4\u001b[0m \u001b[0;34m\u001b[0m\u001b[0m\n\u001b[1;32m      5\u001b[0m \u001b[0;31m# get just the explanations for the positive class\u001b[0m\u001b[0;34m\u001b[0m\u001b[0;34m\u001b[0m\u001b[0;34m\u001b[0m\u001b[0m\n",
      "\u001b[0;32m~/shap/venv36tens2/lib/python3.6/site-packages/shap/explainers/_exact.py\u001b[0m in \u001b[0;36m__call__\u001b[0;34m(self, max_evals, main_effects, error_bounds, batch_size, silent, *args)\u001b[0m\n\u001b[1;32m     65\u001b[0m         return super(Exact, self).__call__(\n\u001b[1;32m     66\u001b[0m             \u001b[0;34m*\u001b[0m\u001b[0margs\u001b[0m\u001b[0;34m,\u001b[0m \u001b[0mmax_evals\u001b[0m\u001b[0;34m=\u001b[0m\u001b[0mmax_evals\u001b[0m\u001b[0;34m,\u001b[0m \u001b[0mmain_effects\u001b[0m\u001b[0;34m=\u001b[0m\u001b[0mmain_effects\u001b[0m\u001b[0;34m,\u001b[0m \u001b[0merror_bounds\u001b[0m\u001b[0;34m=\u001b[0m\u001b[0merror_bounds\u001b[0m\u001b[0;34m,\u001b[0m\u001b[0;34m\u001b[0m\u001b[0;34m\u001b[0m\u001b[0m\n\u001b[0;32m---> 67\u001b[0;31m             \u001b[0mbatch_size\u001b[0m\u001b[0;34m=\u001b[0m\u001b[0mbatch_size\u001b[0m\u001b[0;34m,\u001b[0m \u001b[0msilent\u001b[0m\u001b[0;34m=\u001b[0m\u001b[0msilent\u001b[0m\u001b[0;34m\u001b[0m\u001b[0;34m\u001b[0m\u001b[0m\n\u001b[0m\u001b[1;32m     68\u001b[0m         )\n\u001b[1;32m     69\u001b[0m \u001b[0;34m\u001b[0m\u001b[0m\n",
      "\u001b[0;32m~/shap/venv36tens2/lib/python3.6/site-packages/shap/explainers/_explainer.py\u001b[0m in \u001b[0;36m__call__\u001b[0;34m(self, max_evals, main_effects, error_bounds, batch_size, outputs, silent, *args, **kwargs)\u001b[0m\n\u001b[1;32m    196\u001b[0m             row_result = self.explain_row(\n\u001b[1;32m    197\u001b[0m                 \u001b[0;34m*\u001b[0m\u001b[0mrow_args\u001b[0m\u001b[0;34m,\u001b[0m \u001b[0mmax_evals\u001b[0m\u001b[0;34m=\u001b[0m\u001b[0mmax_evals\u001b[0m\u001b[0;34m,\u001b[0m \u001b[0mmain_effects\u001b[0m\u001b[0;34m=\u001b[0m\u001b[0mmain_effects\u001b[0m\u001b[0;34m,\u001b[0m \u001b[0merror_bounds\u001b[0m\u001b[0;34m=\u001b[0m\u001b[0merror_bounds\u001b[0m\u001b[0;34m,\u001b[0m\u001b[0;34m\u001b[0m\u001b[0;34m\u001b[0m\u001b[0m\n\u001b[0;32m--> 198\u001b[0;31m                 \u001b[0mbatch_size\u001b[0m\u001b[0;34m=\u001b[0m\u001b[0mbatch_size\u001b[0m\u001b[0;34m,\u001b[0m \u001b[0msilent\u001b[0m\u001b[0;34m=\u001b[0m\u001b[0msilent\u001b[0m\u001b[0;34m,\u001b[0m \u001b[0;34m**\u001b[0m\u001b[0mkwargs\u001b[0m\u001b[0;34m\u001b[0m\u001b[0;34m\u001b[0m\u001b[0m\n\u001b[0m\u001b[1;32m    199\u001b[0m             )\n\u001b[1;32m    200\u001b[0m             \u001b[0mvalues\u001b[0m\u001b[0;34m.\u001b[0m\u001b[0mappend\u001b[0m\u001b[0;34m(\u001b[0m\u001b[0mrow_result\u001b[0m\u001b[0;34m.\u001b[0m\u001b[0mget\u001b[0m\u001b[0;34m(\u001b[0m\u001b[0;34m\"values\"\u001b[0m\u001b[0;34m,\u001b[0m \u001b[0;32mNone\u001b[0m\u001b[0;34m)\u001b[0m\u001b[0;34m)\u001b[0m\u001b[0;34m\u001b[0m\u001b[0;34m\u001b[0m\u001b[0m\n",
      "\u001b[0;32m~/shap/venv36tens2/lib/python3.6/site-packages/shap/explainers/_exact.py\u001b[0m in \u001b[0;36mexplain_row\u001b[0;34m(self, max_evals, main_effects, error_bounds, batch_size, silent, *row_args)\u001b[0m\n\u001b[1;32m    111\u001b[0m             \u001b[0mrow_values\u001b[0m \u001b[0;34m=\u001b[0m \u001b[0mnp\u001b[0m\u001b[0;34m.\u001b[0m\u001b[0mzeros\u001b[0m\u001b[0;34m(\u001b[0m\u001b[0mlen\u001b[0m\u001b[0;34m(\u001b[0m\u001b[0mfm\u001b[0m\u001b[0;34m)\u001b[0m\u001b[0;34m)\u001b[0m\u001b[0;34m\u001b[0m\u001b[0;34m\u001b[0m\u001b[0m\n\u001b[1;32m    112\u001b[0m             \u001b[0mmask\u001b[0m \u001b[0;34m=\u001b[0m \u001b[0mnp\u001b[0m\u001b[0;34m.\u001b[0m\u001b[0mzeros\u001b[0m\u001b[0;34m(\u001b[0m\u001b[0mlen\u001b[0m\u001b[0;34m(\u001b[0m\u001b[0mfm\u001b[0m\u001b[0;34m)\u001b[0m\u001b[0;34m,\u001b[0m \u001b[0mdtype\u001b[0m\u001b[0;34m=\u001b[0m\u001b[0mnp\u001b[0m\u001b[0;34m.\u001b[0m\u001b[0mbool\u001b[0m\u001b[0;34m)\u001b[0m\u001b[0;34m\u001b[0m\u001b[0;34m\u001b[0m\u001b[0m\n\u001b[0;32m--> 113\u001b[0;31m             \u001b[0m_compute_grey_code_row_values\u001b[0m\u001b[0;34m(\u001b[0m\u001b[0mrow_values\u001b[0m\u001b[0;34m,\u001b[0m \u001b[0mmask\u001b[0m\u001b[0;34m,\u001b[0m \u001b[0minds\u001b[0m\u001b[0;34m,\u001b[0m \u001b[0moutputs\u001b[0m\u001b[0;34m,\u001b[0m \u001b[0mcoeff\u001b[0m\u001b[0;34m,\u001b[0m \u001b[0mextended_delta_indexes\u001b[0m\u001b[0;34m,\u001b[0m \u001b[0mMaskedModel\u001b[0m\u001b[0;34m.\u001b[0m\u001b[0mdelta_mask_noop_value\u001b[0m\u001b[0;34m)\u001b[0m\u001b[0;34m\u001b[0m\u001b[0;34m\u001b[0m\u001b[0m\n\u001b[0m\u001b[1;32m    114\u001b[0m \u001b[0;34m\u001b[0m\u001b[0m\n\u001b[1;32m    115\u001b[0m \u001b[0;34m\u001b[0m\u001b[0m\n",
      "\u001b[0;31mValueError\u001b[0m: setting an array element with a sequence."
     ]
    }
   ],
   "source": [
    "# build an Exact explainer and explain the model predictions on the given dataset\n",
    "explainer = shap.explainers.Exact(model.predict_proba, X)\n",
    "shap_values = explainer(X[:100])\n",
    "\n",
    "# get just the explanations for the positive class\n",
    "shap_values = shap_values[...,1]"
   ]
  },
  {
   "cell_type": "markdown",
   "metadata": {},
   "source": [
    "### Plot a global summary"
   ]
  },
  {
   "cell_type": "code",
   "execution_count": null,
   "metadata": {
    "scrolled": false
   },
   "outputs": [],
   "source": [
    "shap.plots.bar(shap_values)"
   ]
  },
  {
   "cell_type": "markdown",
   "metadata": {},
   "source": [
    "### Plot a single instance"
   ]
  },
  {
   "cell_type": "code",
   "execution_count": null,
   "metadata": {},
   "outputs": [],
   "source": [
    "shap.plots.waterfall(shap_values[0])"
   ]
  },
  {
   "cell_type": "markdown",
   "metadata": {},
   "source": [
    "## Tabular data with partition (Owen value) masking\n",
    "\n",
    "While Shapley values result from treating each feature independently of the other features, it is often useful to enforce a structure on the model inputs. Enforcing such a structure produces a structure game (i.e. a game with rules about valid input feature coalitions), and when that structure is a nest set of feature grouping we get the Owen values as a recursive application of Shapley values to the group. In SHAP, we take the partitioning to the limit and build a binary herarchial clustering tree to represent the structure of the data. This structure could be chosen in many ways, but for tabular data it is often helpful to build the structure from the redundancy of information between the input features about the output label. This is what we do below:"
   ]
  },
  {
   "cell_type": "code",
   "execution_count": null,
   "metadata": {},
   "outputs": [],
   "source": [
    "# build a clustering of the features based on shared information about y\n",
    "clustering = shap.utils.hclust(X, y)"
   ]
  },
  {
   "cell_type": "code",
   "execution_count": null,
   "metadata": {},
   "outputs": [],
   "source": [
    "# above we implicitly used shap.maskers.Independent by passing a raw dataframe as the masker\n",
    "# now we explicitly use a Partition masker that uses the clustering we just computed\n",
    "masker = shap.maskers.Partition(X, clustering=clustering)\n",
    "\n",
    "# build an Exact explainer and explain the model predictions on the given dataset\n",
    "explainer = shap.explainers.Exact(model.predict_proba, masker)\n",
    "shap_values2 = explainer(X[:100])\n",
    "\n",
    "# get just the explanations for the positive class\n",
    "shap_values2 = shap_values2[...,1]"
   ]
  },
  {
   "cell_type": "markdown",
   "metadata": {},
   "source": [
    "### Plot a global summary\n",
    "\n",
    "Note that only the Relationship and Marital status features share more that 50% of their explanation power (as measured by R2) with each other, so all the other parts of the clustering tree are removed by the the default `clustering_cutoff=0.5` setting:"
   ]
  },
  {
   "cell_type": "code",
   "execution_count": null,
   "metadata": {},
   "outputs": [],
   "source": [
    "shap.plots.bar(shap_values2)"
   ]
  },
  {
   "cell_type": "markdown",
   "metadata": {},
   "source": [
    "### Plot a single instance\n",
    "\n",
    "Note that there is a strong similarity between the explanation from the Independent masker above and the Partition masker here. In general the distinctions between these methods for tabular data are not large, though the Partition masker allows for much faster runtime and potentially more realistic manipulations of the model inputs (since groups of clustered features are masked/unmasked together)."
   ]
  },
  {
   "cell_type": "code",
   "execution_count": null,
   "metadata": {},
   "outputs": [],
   "source": [
    "shap.plots.waterfall(shap_values2[0])"
   ]
  }
 ],
 "metadata": {
  "kernelspec": {
   "display_name": "Python 3",
   "language": "python",
   "name": "python3"
  },
  "language_info": {
   "codemirror_mode": {
    "name": "ipython",
    "version": 3
   },
   "file_extension": ".py",
   "mimetype": "text/x-python",
   "name": "python",
   "nbconvert_exporter": "python",
   "pygments_lexer": "ipython3",
   "version": "3.6.12"
  }
 },
 "nbformat": 4,
 "nbformat_minor": 2
}
